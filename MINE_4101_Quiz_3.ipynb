{
  "nbformat": 4,
  "nbformat_minor": 0,
  "metadata": {
    "colab": {
      "provenance": [],
      "collapsed_sections": [],
      "authorship_tag": "ABX9TyOF9uSz3a5BBGr9DkqJ/UoH",
      "include_colab_link": true
    },
    "kernelspec": {
      "name": "python3",
      "display_name": "Python 3"
    },
    "language_info": {
      "name": "python"
    }
  },
  "cells": [
    {
      "cell_type": "markdown",
      "metadata": {
        "id": "view-in-github",
        "colab_type": "text"
      },
      "source": [
        "<a href=\"https://colab.research.google.com/github/fcochaux/MINE-4101_Quiz_3/blob/main/MINE_4101_Quiz_3.ipynb\" target=\"_parent\"><img src=\"https://colab.research.google.com/assets/colab-badge.svg\" alt=\"Open In Colab\"/></a>"
      ]
    },
    {
      "cell_type": "markdown",
      "source": [
        "# Quiz 3 de Ciencia de Datos Aplicada\n",
        "\n",
        "**Estudiante:** Francisco José Chaux Guzmán <br/>\n",
        "**Código:** 202210155 <br/>\n",
        "**Programa:** Maestría en Ingeniería de la Información"
      ],
      "metadata": {
        "id": "jOyEaWsrkqxK"
      }
    },
    {
      "cell_type": "markdown",
      "source": [
        "Enlace al repositorio de este taller:"
      ],
      "metadata": {
        "id": "h2sxZkOvos-9"
      }
    },
    {
      "cell_type": "code",
      "source": [
        "!git clone \"https://github.com/fcochaux/MINE-4101_Quiz_3.git\""
      ],
      "metadata": {
        "colab": {
          "base_uri": "https://localhost:8080/"
        },
        "id": "lajZozxqoQhz",
        "outputId": "38869d5d-6f31-43f1-9699-6506616b9c72"
      },
      "execution_count": 1,
      "outputs": [
        {
          "output_type": "stream",
          "name": "stdout",
          "text": [
            "Cloning into 'MINE-4101_Quiz_3'...\n",
            "remote: Enumerating objects: 14, done.\u001b[K\n",
            "remote: Counting objects: 100% (14/14), done.\u001b[K\n",
            "remote: Compressing objects: 100% (9/9), done.\u001b[K\n",
            "remote: Total 14 (delta 0), reused 0 (delta 0), pack-reused 0\u001b[K\n",
            "Unpacking objects: 100% (14/14), done.\n"
          ]
        }
      ]
    },
    {
      "cell_type": "markdown",
      "source": [
        "Carga de librerías:"
      ],
      "metadata": {
        "id": "o-nHPhteteCB"
      }
    },
    {
      "cell_type": "code",
      "source": [
        "# procesamiento\n",
        "\n",
        "import numpy as np\n",
        "import pandas as pd\n",
        "\n",
        "# visualización\n",
        "\n",
        "import matplotlib.pyplot as plt\n",
        "import seaborn as sns\n",
        "\n",
        "# aprendizaje\n",
        "\n",
        "from sklearn.model_selection import train_test_split\n",
        "from sklearn.preprocessing import StandardScaler, PolynomialFeatures\n",
        "from sklearn.linear_model import LinearRegression, Ridge\n",
        "from sklearn.metrics import mean_squared_error, mean_absolute_error"
      ],
      "metadata": {
        "id": "ivd4K49bri-2"
      },
      "execution_count": 2,
      "outputs": []
    },
    {
      "cell_type": "markdown",
      "source": [
        "## 1) Preparación del conjunto de datos\n",
        "\n",
        "Lectura de la base de datos:"
      ],
      "metadata": {
        "id": "Q7I9rx7tyiCY"
      }
    },
    {
      "cell_type": "code",
      "source": [
        "# lectura del conjunto de datos\n",
        "df = pd.read_csv('/content/MINE-4101_Quiz_3/datos/insurance.csv')\n",
        "# convierte nombres a minúsculas\n",
        "df.columns = df.columns.str.lower()\n",
        "# revisa 5 casos al azar\n",
        "df.sample(5)"
      ],
      "metadata": {
        "colab": {
          "base_uri": "https://localhost:8080/",
          "height": 206
        },
        "id": "5Lsa93Vqylz7",
        "outputId": "e58e6214-ce25-4842-e25f-264ddd102afb"
      },
      "execution_count": 3,
      "outputs": [
        {
          "output_type": "execute_result",
          "data": {
            "text/plain": [
              "      age     sex     bmi  children smoker     region      charges\n",
              "397    21    male  31.020         0     no  southeast  16586.49771\n",
              "193    56  female  26.600         1     no  northwest  12044.34200\n",
              "1110   54  female  32.300         1     no  northeast  11512.40500\n",
              "661    57  female  23.980         1     no  southeast  22192.43711\n",
              "1257   54  female  27.645         1     no  northwest  11305.93455"
            ],
            "text/html": [
              "\n",
              "  <div id=\"df-8f557a10-2ac4-4ed2-8403-61d7ee44b6f5\">\n",
              "    <div class=\"colab-df-container\">\n",
              "      <div>\n",
              "<style scoped>\n",
              "    .dataframe tbody tr th:only-of-type {\n",
              "        vertical-align: middle;\n",
              "    }\n",
              "\n",
              "    .dataframe tbody tr th {\n",
              "        vertical-align: top;\n",
              "    }\n",
              "\n",
              "    .dataframe thead th {\n",
              "        text-align: right;\n",
              "    }\n",
              "</style>\n",
              "<table border=\"1\" class=\"dataframe\">\n",
              "  <thead>\n",
              "    <tr style=\"text-align: right;\">\n",
              "      <th></th>\n",
              "      <th>age</th>\n",
              "      <th>sex</th>\n",
              "      <th>bmi</th>\n",
              "      <th>children</th>\n",
              "      <th>smoker</th>\n",
              "      <th>region</th>\n",
              "      <th>charges</th>\n",
              "    </tr>\n",
              "  </thead>\n",
              "  <tbody>\n",
              "    <tr>\n",
              "      <th>397</th>\n",
              "      <td>21</td>\n",
              "      <td>male</td>\n",
              "      <td>31.020</td>\n",
              "      <td>0</td>\n",
              "      <td>no</td>\n",
              "      <td>southeast</td>\n",
              "      <td>16586.49771</td>\n",
              "    </tr>\n",
              "    <tr>\n",
              "      <th>193</th>\n",
              "      <td>56</td>\n",
              "      <td>female</td>\n",
              "      <td>26.600</td>\n",
              "      <td>1</td>\n",
              "      <td>no</td>\n",
              "      <td>northwest</td>\n",
              "      <td>12044.34200</td>\n",
              "    </tr>\n",
              "    <tr>\n",
              "      <th>1110</th>\n",
              "      <td>54</td>\n",
              "      <td>female</td>\n",
              "      <td>32.300</td>\n",
              "      <td>1</td>\n",
              "      <td>no</td>\n",
              "      <td>northeast</td>\n",
              "      <td>11512.40500</td>\n",
              "    </tr>\n",
              "    <tr>\n",
              "      <th>661</th>\n",
              "      <td>57</td>\n",
              "      <td>female</td>\n",
              "      <td>23.980</td>\n",
              "      <td>1</td>\n",
              "      <td>no</td>\n",
              "      <td>southeast</td>\n",
              "      <td>22192.43711</td>\n",
              "    </tr>\n",
              "    <tr>\n",
              "      <th>1257</th>\n",
              "      <td>54</td>\n",
              "      <td>female</td>\n",
              "      <td>27.645</td>\n",
              "      <td>1</td>\n",
              "      <td>no</td>\n",
              "      <td>northwest</td>\n",
              "      <td>11305.93455</td>\n",
              "    </tr>\n",
              "  </tbody>\n",
              "</table>\n",
              "</div>\n",
              "      <button class=\"colab-df-convert\" onclick=\"convertToInteractive('df-8f557a10-2ac4-4ed2-8403-61d7ee44b6f5')\"\n",
              "              title=\"Convert this dataframe to an interactive table.\"\n",
              "              style=\"display:none;\">\n",
              "        \n",
              "  <svg xmlns=\"http://www.w3.org/2000/svg\" height=\"24px\"viewBox=\"0 0 24 24\"\n",
              "       width=\"24px\">\n",
              "    <path d=\"M0 0h24v24H0V0z\" fill=\"none\"/>\n",
              "    <path d=\"M18.56 5.44l.94 2.06.94-2.06 2.06-.94-2.06-.94-.94-2.06-.94 2.06-2.06.94zm-11 1L8.5 8.5l.94-2.06 2.06-.94-2.06-.94L8.5 2.5l-.94 2.06-2.06.94zm10 10l.94 2.06.94-2.06 2.06-.94-2.06-.94-.94-2.06-.94 2.06-2.06.94z\"/><path d=\"M17.41 7.96l-1.37-1.37c-.4-.4-.92-.59-1.43-.59-.52 0-1.04.2-1.43.59L10.3 9.45l-7.72 7.72c-.78.78-.78 2.05 0 2.83L4 21.41c.39.39.9.59 1.41.59.51 0 1.02-.2 1.41-.59l7.78-7.78 2.81-2.81c.8-.78.8-2.07 0-2.86zM5.41 20L4 18.59l7.72-7.72 1.47 1.35L5.41 20z\"/>\n",
              "  </svg>\n",
              "      </button>\n",
              "      \n",
              "  <style>\n",
              "    .colab-df-container {\n",
              "      display:flex;\n",
              "      flex-wrap:wrap;\n",
              "      gap: 12px;\n",
              "    }\n",
              "\n",
              "    .colab-df-convert {\n",
              "      background-color: #E8F0FE;\n",
              "      border: none;\n",
              "      border-radius: 50%;\n",
              "      cursor: pointer;\n",
              "      display: none;\n",
              "      fill: #1967D2;\n",
              "      height: 32px;\n",
              "      padding: 0 0 0 0;\n",
              "      width: 32px;\n",
              "    }\n",
              "\n",
              "    .colab-df-convert:hover {\n",
              "      background-color: #E2EBFA;\n",
              "      box-shadow: 0px 1px 2px rgba(60, 64, 67, 0.3), 0px 1px 3px 1px rgba(60, 64, 67, 0.15);\n",
              "      fill: #174EA6;\n",
              "    }\n",
              "\n",
              "    [theme=dark] .colab-df-convert {\n",
              "      background-color: #3B4455;\n",
              "      fill: #D2E3FC;\n",
              "    }\n",
              "\n",
              "    [theme=dark] .colab-df-convert:hover {\n",
              "      background-color: #434B5C;\n",
              "      box-shadow: 0px 1px 3px 1px rgba(0, 0, 0, 0.15);\n",
              "      filter: drop-shadow(0px 1px 2px rgba(0, 0, 0, 0.3));\n",
              "      fill: #FFFFFF;\n",
              "    }\n",
              "  </style>\n",
              "\n",
              "      <script>\n",
              "        const buttonEl =\n",
              "          document.querySelector('#df-8f557a10-2ac4-4ed2-8403-61d7ee44b6f5 button.colab-df-convert');\n",
              "        buttonEl.style.display =\n",
              "          google.colab.kernel.accessAllowed ? 'block' : 'none';\n",
              "\n",
              "        async function convertToInteractive(key) {\n",
              "          const element = document.querySelector('#df-8f557a10-2ac4-4ed2-8403-61d7ee44b6f5');\n",
              "          const dataTable =\n",
              "            await google.colab.kernel.invokeFunction('convertToInteractive',\n",
              "                                                     [key], {});\n",
              "          if (!dataTable) return;\n",
              "\n",
              "          const docLinkHtml = 'Like what you see? Visit the ' +\n",
              "            '<a target=\"_blank\" href=https://colab.research.google.com/notebooks/data_table.ipynb>data table notebook</a>'\n",
              "            + ' to learn more about interactive tables.';\n",
              "          element.innerHTML = '';\n",
              "          dataTable['output_type'] = 'display_data';\n",
              "          await google.colab.output.renderOutput(dataTable, element);\n",
              "          const docLink = document.createElement('div');\n",
              "          docLink.innerHTML = docLinkHtml;\n",
              "          element.appendChild(docLink);\n",
              "        }\n",
              "      </script>\n",
              "    </div>\n",
              "  </div>\n",
              "  "
            ]
          },
          "metadata": {},
          "execution_count": 3
        }
      ]
    },
    {
      "cell_type": "markdown",
      "source": [
        "Revisión de características de la base:"
      ],
      "metadata": {
        "id": "bOxiWupJzDOh"
      }
    },
    {
      "cell_type": "code",
      "source": [
        "df.info()"
      ],
      "metadata": {
        "colab": {
          "base_uri": "https://localhost:8080/"
        },
        "id": "yIGm0tOxzHBq",
        "outputId": "66d1f0a9-0739-45af-a8ba-dd9d8f78b96b"
      },
      "execution_count": 4,
      "outputs": [
        {
          "output_type": "stream",
          "name": "stdout",
          "text": [
            "<class 'pandas.core.frame.DataFrame'>\n",
            "RangeIndex: 1338 entries, 0 to 1337\n",
            "Data columns (total 7 columns):\n",
            " #   Column    Non-Null Count  Dtype  \n",
            "---  ------    --------------  -----  \n",
            " 0   age       1338 non-null   int64  \n",
            " 1   sex       1338 non-null   object \n",
            " 2   bmi       1338 non-null   float64\n",
            " 3   children  1338 non-null   int64  \n",
            " 4   smoker    1338 non-null   object \n",
            " 5   region    1338 non-null   object \n",
            " 6   charges   1338 non-null   float64\n",
            "dtypes: float64(2), int64(2), object(3)\n",
            "memory usage: 73.3+ KB\n"
          ]
        }
      ]
    },
    {
      "cell_type": "markdown",
      "source": [
        "Ningún caso de valor faltante. Tampoco hay variables de identificación, por lo que puedo revisar si hay duplicados:"
      ],
      "metadata": {
        "id": "fV-LZVGlzQHa"
      }
    },
    {
      "cell_type": "code",
      "source": [
        "df[df.duplicated()]"
      ],
      "metadata": {
        "colab": {
          "base_uri": "https://localhost:8080/",
          "height": 81
        },
        "id": "mNsphR2Qzff1",
        "outputId": "ca4a4c37-98d4-443f-b858-71459fad9017"
      },
      "execution_count": 5,
      "outputs": [
        {
          "output_type": "execute_result",
          "data": {
            "text/plain": [
              "     age   sex    bmi  children smoker     region    charges\n",
              "581   19  male  30.59         0     no  northwest  1639.5631"
            ],
            "text/html": [
              "\n",
              "  <div id=\"df-4d07d7ba-275d-4d72-9310-3a1fda63c4ae\">\n",
              "    <div class=\"colab-df-container\">\n",
              "      <div>\n",
              "<style scoped>\n",
              "    .dataframe tbody tr th:only-of-type {\n",
              "        vertical-align: middle;\n",
              "    }\n",
              "\n",
              "    .dataframe tbody tr th {\n",
              "        vertical-align: top;\n",
              "    }\n",
              "\n",
              "    .dataframe thead th {\n",
              "        text-align: right;\n",
              "    }\n",
              "</style>\n",
              "<table border=\"1\" class=\"dataframe\">\n",
              "  <thead>\n",
              "    <tr style=\"text-align: right;\">\n",
              "      <th></th>\n",
              "      <th>age</th>\n",
              "      <th>sex</th>\n",
              "      <th>bmi</th>\n",
              "      <th>children</th>\n",
              "      <th>smoker</th>\n",
              "      <th>region</th>\n",
              "      <th>charges</th>\n",
              "    </tr>\n",
              "  </thead>\n",
              "  <tbody>\n",
              "    <tr>\n",
              "      <th>581</th>\n",
              "      <td>19</td>\n",
              "      <td>male</td>\n",
              "      <td>30.59</td>\n",
              "      <td>0</td>\n",
              "      <td>no</td>\n",
              "      <td>northwest</td>\n",
              "      <td>1639.5631</td>\n",
              "    </tr>\n",
              "  </tbody>\n",
              "</table>\n",
              "</div>\n",
              "      <button class=\"colab-df-convert\" onclick=\"convertToInteractive('df-4d07d7ba-275d-4d72-9310-3a1fda63c4ae')\"\n",
              "              title=\"Convert this dataframe to an interactive table.\"\n",
              "              style=\"display:none;\">\n",
              "        \n",
              "  <svg xmlns=\"http://www.w3.org/2000/svg\" height=\"24px\"viewBox=\"0 0 24 24\"\n",
              "       width=\"24px\">\n",
              "    <path d=\"M0 0h24v24H0V0z\" fill=\"none\"/>\n",
              "    <path d=\"M18.56 5.44l.94 2.06.94-2.06 2.06-.94-2.06-.94-.94-2.06-.94 2.06-2.06.94zm-11 1L8.5 8.5l.94-2.06 2.06-.94-2.06-.94L8.5 2.5l-.94 2.06-2.06.94zm10 10l.94 2.06.94-2.06 2.06-.94-2.06-.94-.94-2.06-.94 2.06-2.06.94z\"/><path d=\"M17.41 7.96l-1.37-1.37c-.4-.4-.92-.59-1.43-.59-.52 0-1.04.2-1.43.59L10.3 9.45l-7.72 7.72c-.78.78-.78 2.05 0 2.83L4 21.41c.39.39.9.59 1.41.59.51 0 1.02-.2 1.41-.59l7.78-7.78 2.81-2.81c.8-.78.8-2.07 0-2.86zM5.41 20L4 18.59l7.72-7.72 1.47 1.35L5.41 20z\"/>\n",
              "  </svg>\n",
              "      </button>\n",
              "      \n",
              "  <style>\n",
              "    .colab-df-container {\n",
              "      display:flex;\n",
              "      flex-wrap:wrap;\n",
              "      gap: 12px;\n",
              "    }\n",
              "\n",
              "    .colab-df-convert {\n",
              "      background-color: #E8F0FE;\n",
              "      border: none;\n",
              "      border-radius: 50%;\n",
              "      cursor: pointer;\n",
              "      display: none;\n",
              "      fill: #1967D2;\n",
              "      height: 32px;\n",
              "      padding: 0 0 0 0;\n",
              "      width: 32px;\n",
              "    }\n",
              "\n",
              "    .colab-df-convert:hover {\n",
              "      background-color: #E2EBFA;\n",
              "      box-shadow: 0px 1px 2px rgba(60, 64, 67, 0.3), 0px 1px 3px 1px rgba(60, 64, 67, 0.15);\n",
              "      fill: #174EA6;\n",
              "    }\n",
              "\n",
              "    [theme=dark] .colab-df-convert {\n",
              "      background-color: #3B4455;\n",
              "      fill: #D2E3FC;\n",
              "    }\n",
              "\n",
              "    [theme=dark] .colab-df-convert:hover {\n",
              "      background-color: #434B5C;\n",
              "      box-shadow: 0px 1px 3px 1px rgba(0, 0, 0, 0.15);\n",
              "      filter: drop-shadow(0px 1px 2px rgba(0, 0, 0, 0.3));\n",
              "      fill: #FFFFFF;\n",
              "    }\n",
              "  </style>\n",
              "\n",
              "      <script>\n",
              "        const buttonEl =\n",
              "          document.querySelector('#df-4d07d7ba-275d-4d72-9310-3a1fda63c4ae button.colab-df-convert');\n",
              "        buttonEl.style.display =\n",
              "          google.colab.kernel.accessAllowed ? 'block' : 'none';\n",
              "\n",
              "        async function convertToInteractive(key) {\n",
              "          const element = document.querySelector('#df-4d07d7ba-275d-4d72-9310-3a1fda63c4ae');\n",
              "          const dataTable =\n",
              "            await google.colab.kernel.invokeFunction('convertToInteractive',\n",
              "                                                     [key], {});\n",
              "          if (!dataTable) return;\n",
              "\n",
              "          const docLinkHtml = 'Like what you see? Visit the ' +\n",
              "            '<a target=\"_blank\" href=https://colab.research.google.com/notebooks/data_table.ipynb>data table notebook</a>'\n",
              "            + ' to learn more about interactive tables.';\n",
              "          element.innerHTML = '';\n",
              "          dataTable['output_type'] = 'display_data';\n",
              "          await google.colab.output.renderOutput(dataTable, element);\n",
              "          const docLink = document.createElement('div');\n",
              "          docLink.innerHTML = docLinkHtml;\n",
              "          element.appendChild(docLink);\n",
              "        }\n",
              "      </script>\n",
              "    </div>\n",
              "  </div>\n",
              "  "
            ]
          },
          "metadata": {},
          "execution_count": 5
        }
      ]
    },
    {
      "cell_type": "markdown",
      "source": [
        "Como se encontró un duplicado, se elimina el caso repetido:"
      ],
      "metadata": {
        "id": "9shZ41ukzoPz"
      }
    },
    {
      "cell_type": "code",
      "source": [
        "df = df.drop_duplicates()"
      ],
      "metadata": {
        "id": "YZPx35K1znjQ"
      },
      "execution_count": 6,
      "outputs": []
    },
    {
      "cell_type": "markdown",
      "source": [
        "Ahora la base tiene un dato menos:"
      ],
      "metadata": {
        "id": "UmC-rGORz3tb"
      }
    },
    {
      "cell_type": "code",
      "source": [
        "df.info()"
      ],
      "metadata": {
        "colab": {
          "base_uri": "https://localhost:8080/"
        },
        "id": "14h2EcNMz5YZ",
        "outputId": "a9d59af8-6b28-4115-95a3-b04ac1fb3d5f"
      },
      "execution_count": 7,
      "outputs": [
        {
          "output_type": "stream",
          "name": "stdout",
          "text": [
            "<class 'pandas.core.frame.DataFrame'>\n",
            "Int64Index: 1337 entries, 0 to 1337\n",
            "Data columns (total 7 columns):\n",
            " #   Column    Non-Null Count  Dtype  \n",
            "---  ------    --------------  -----  \n",
            " 0   age       1337 non-null   int64  \n",
            " 1   sex       1337 non-null   object \n",
            " 2   bmi       1337 non-null   float64\n",
            " 3   children  1337 non-null   int64  \n",
            " 4   smoker    1337 non-null   object \n",
            " 5   region    1337 non-null   object \n",
            " 6   charges   1337 non-null   float64\n",
            "dtypes: float64(2), int64(2), object(3)\n",
            "memory usage: 83.6+ KB\n"
          ]
        }
      ]
    },
    {
      "cell_type": "markdown",
      "source": [
        "Las estadísticas descriptivas de las variables numéricas son las siguientes:"
      ],
      "metadata": {
        "id": "P4S2rr2A2wa3"
      }
    },
    {
      "cell_type": "code",
      "source": [
        "df.describe().applymap('{:,.2f}'.format)"
      ],
      "metadata": {
        "colab": {
          "base_uri": "https://localhost:8080/",
          "height": 300
        },
        "id": "eaoTYSsp2843",
        "outputId": "86a298af-0e1c-44b6-aad1-376db4ea2be5"
      },
      "execution_count": 8,
      "outputs": [
        {
          "output_type": "execute_result",
          "data": {
            "text/plain": [
              "            age       bmi  children    charges\n",
              "count  1,337.00  1,337.00  1,337.00   1,337.00\n",
              "mean      39.22     30.66      1.10  13,279.12\n",
              "std       14.04      6.10      1.21  12,110.36\n",
              "min       18.00     15.96      0.00   1,121.87\n",
              "25%       27.00     26.29      0.00   4,746.34\n",
              "50%       39.00     30.40      1.00   9,386.16\n",
              "75%       51.00     34.70      2.00  16,657.72\n",
              "max       64.00     53.13      5.00  63,770.43"
            ],
            "text/html": [
              "\n",
              "  <div id=\"df-0e3504a9-3025-42ee-8d53-c5e417b88bc0\">\n",
              "    <div class=\"colab-df-container\">\n",
              "      <div>\n",
              "<style scoped>\n",
              "    .dataframe tbody tr th:only-of-type {\n",
              "        vertical-align: middle;\n",
              "    }\n",
              "\n",
              "    .dataframe tbody tr th {\n",
              "        vertical-align: top;\n",
              "    }\n",
              "\n",
              "    .dataframe thead th {\n",
              "        text-align: right;\n",
              "    }\n",
              "</style>\n",
              "<table border=\"1\" class=\"dataframe\">\n",
              "  <thead>\n",
              "    <tr style=\"text-align: right;\">\n",
              "      <th></th>\n",
              "      <th>age</th>\n",
              "      <th>bmi</th>\n",
              "      <th>children</th>\n",
              "      <th>charges</th>\n",
              "    </tr>\n",
              "  </thead>\n",
              "  <tbody>\n",
              "    <tr>\n",
              "      <th>count</th>\n",
              "      <td>1,337.00</td>\n",
              "      <td>1,337.00</td>\n",
              "      <td>1,337.00</td>\n",
              "      <td>1,337.00</td>\n",
              "    </tr>\n",
              "    <tr>\n",
              "      <th>mean</th>\n",
              "      <td>39.22</td>\n",
              "      <td>30.66</td>\n",
              "      <td>1.10</td>\n",
              "      <td>13,279.12</td>\n",
              "    </tr>\n",
              "    <tr>\n",
              "      <th>std</th>\n",
              "      <td>14.04</td>\n",
              "      <td>6.10</td>\n",
              "      <td>1.21</td>\n",
              "      <td>12,110.36</td>\n",
              "    </tr>\n",
              "    <tr>\n",
              "      <th>min</th>\n",
              "      <td>18.00</td>\n",
              "      <td>15.96</td>\n",
              "      <td>0.00</td>\n",
              "      <td>1,121.87</td>\n",
              "    </tr>\n",
              "    <tr>\n",
              "      <th>25%</th>\n",
              "      <td>27.00</td>\n",
              "      <td>26.29</td>\n",
              "      <td>0.00</td>\n",
              "      <td>4,746.34</td>\n",
              "    </tr>\n",
              "    <tr>\n",
              "      <th>50%</th>\n",
              "      <td>39.00</td>\n",
              "      <td>30.40</td>\n",
              "      <td>1.00</td>\n",
              "      <td>9,386.16</td>\n",
              "    </tr>\n",
              "    <tr>\n",
              "      <th>75%</th>\n",
              "      <td>51.00</td>\n",
              "      <td>34.70</td>\n",
              "      <td>2.00</td>\n",
              "      <td>16,657.72</td>\n",
              "    </tr>\n",
              "    <tr>\n",
              "      <th>max</th>\n",
              "      <td>64.00</td>\n",
              "      <td>53.13</td>\n",
              "      <td>5.00</td>\n",
              "      <td>63,770.43</td>\n",
              "    </tr>\n",
              "  </tbody>\n",
              "</table>\n",
              "</div>\n",
              "      <button class=\"colab-df-convert\" onclick=\"convertToInteractive('df-0e3504a9-3025-42ee-8d53-c5e417b88bc0')\"\n",
              "              title=\"Convert this dataframe to an interactive table.\"\n",
              "              style=\"display:none;\">\n",
              "        \n",
              "  <svg xmlns=\"http://www.w3.org/2000/svg\" height=\"24px\"viewBox=\"0 0 24 24\"\n",
              "       width=\"24px\">\n",
              "    <path d=\"M0 0h24v24H0V0z\" fill=\"none\"/>\n",
              "    <path d=\"M18.56 5.44l.94 2.06.94-2.06 2.06-.94-2.06-.94-.94-2.06-.94 2.06-2.06.94zm-11 1L8.5 8.5l.94-2.06 2.06-.94-2.06-.94L8.5 2.5l-.94 2.06-2.06.94zm10 10l.94 2.06.94-2.06 2.06-.94-2.06-.94-.94-2.06-.94 2.06-2.06.94z\"/><path d=\"M17.41 7.96l-1.37-1.37c-.4-.4-.92-.59-1.43-.59-.52 0-1.04.2-1.43.59L10.3 9.45l-7.72 7.72c-.78.78-.78 2.05 0 2.83L4 21.41c.39.39.9.59 1.41.59.51 0 1.02-.2 1.41-.59l7.78-7.78 2.81-2.81c.8-.78.8-2.07 0-2.86zM5.41 20L4 18.59l7.72-7.72 1.47 1.35L5.41 20z\"/>\n",
              "  </svg>\n",
              "      </button>\n",
              "      \n",
              "  <style>\n",
              "    .colab-df-container {\n",
              "      display:flex;\n",
              "      flex-wrap:wrap;\n",
              "      gap: 12px;\n",
              "    }\n",
              "\n",
              "    .colab-df-convert {\n",
              "      background-color: #E8F0FE;\n",
              "      border: none;\n",
              "      border-radius: 50%;\n",
              "      cursor: pointer;\n",
              "      display: none;\n",
              "      fill: #1967D2;\n",
              "      height: 32px;\n",
              "      padding: 0 0 0 0;\n",
              "      width: 32px;\n",
              "    }\n",
              "\n",
              "    .colab-df-convert:hover {\n",
              "      background-color: #E2EBFA;\n",
              "      box-shadow: 0px 1px 2px rgba(60, 64, 67, 0.3), 0px 1px 3px 1px rgba(60, 64, 67, 0.15);\n",
              "      fill: #174EA6;\n",
              "    }\n",
              "\n",
              "    [theme=dark] .colab-df-convert {\n",
              "      background-color: #3B4455;\n",
              "      fill: #D2E3FC;\n",
              "    }\n",
              "\n",
              "    [theme=dark] .colab-df-convert:hover {\n",
              "      background-color: #434B5C;\n",
              "      box-shadow: 0px 1px 3px 1px rgba(0, 0, 0, 0.15);\n",
              "      filter: drop-shadow(0px 1px 2px rgba(0, 0, 0, 0.3));\n",
              "      fill: #FFFFFF;\n",
              "    }\n",
              "  </style>\n",
              "\n",
              "      <script>\n",
              "        const buttonEl =\n",
              "          document.querySelector('#df-0e3504a9-3025-42ee-8d53-c5e417b88bc0 button.colab-df-convert');\n",
              "        buttonEl.style.display =\n",
              "          google.colab.kernel.accessAllowed ? 'block' : 'none';\n",
              "\n",
              "        async function convertToInteractive(key) {\n",
              "          const element = document.querySelector('#df-0e3504a9-3025-42ee-8d53-c5e417b88bc0');\n",
              "          const dataTable =\n",
              "            await google.colab.kernel.invokeFunction('convertToInteractive',\n",
              "                                                     [key], {});\n",
              "          if (!dataTable) return;\n",
              "\n",
              "          const docLinkHtml = 'Like what you see? Visit the ' +\n",
              "            '<a target=\"_blank\" href=https://colab.research.google.com/notebooks/data_table.ipynb>data table notebook</a>'\n",
              "            + ' to learn more about interactive tables.';\n",
              "          element.innerHTML = '';\n",
              "          dataTable['output_type'] = 'display_data';\n",
              "          await google.colab.output.renderOutput(dataTable, element);\n",
              "          const docLink = document.createElement('div');\n",
              "          docLink.innerHTML = docLinkHtml;\n",
              "          element.appendChild(docLink);\n",
              "        }\n",
              "      </script>\n",
              "    </div>\n",
              "  </div>\n",
              "  "
            ]
          },
          "metadata": {},
          "execution_count": 8
        }
      ]
    },
    {
      "cell_type": "markdown",
      "source": [
        "La descripción revela que la variable número de niños tiene un máximo de 5, lo que significa que su variabilidad puede estar muy limitada. Como es una variable entera y, pensando en que es una categoría para la persona, decido tratarla como una variable categórica."
      ],
      "metadata": {
        "id": "WnQ829am3NCe"
      }
    },
    {
      "cell_type": "markdown",
      "source": [
        "A continuación, se generan las variables dicotómicas para las variables categóricas:"
      ],
      "metadata": {
        "id": "7Of07Qajz72i"
      }
    },
    {
      "cell_type": "code",
      "source": [
        "# para sexo\n",
        "df = pd.get_dummies(df, prefix='sex', columns=['sex'], prefix_sep = '_')\n",
        "# para fumador\n",
        "df = pd.get_dummies(df, prefix='smoker', columns=['smoker'], prefix_sep = '_')\n",
        "# para región\n",
        "df = pd.get_dummies(df, prefix='region', columns=['region'], prefix_sep = '_')\n",
        "# para número de niños\n",
        "df = pd.get_dummies(df, prefix='children', columns=['children'], prefix_sep = '_')"
      ],
      "metadata": {
        "id": "KCEzb9Ja0MFL"
      },
      "execution_count": 9,
      "outputs": []
    },
    {
      "cell_type": "markdown",
      "source": [
        "Base de datos resultante:"
      ],
      "metadata": {
        "id": "KTwdSVx_1Enu"
      }
    },
    {
      "cell_type": "code",
      "source": [
        "df.sample(5)"
      ],
      "metadata": {
        "colab": {
          "base_uri": "https://localhost:8080/",
          "height": 270
        },
        "id": "rTp2ppbs1G_o",
        "outputId": "36dbe08f-fd69-4b80-c0c4-18a5802158f0"
      },
      "execution_count": 10,
      "outputs": [
        {
          "output_type": "execute_result",
          "data": {
            "text/plain": [
              "      age    bmi     charges  sex_female  sex_male  smoker_no  smoker_yes  \\\n",
              "221    53  33.25  10564.8845           1         0          1           0   \n",
              "1170   18  27.36  17178.6824           0         1          0           1   \n",
              "555    28  23.80   3847.6740           0         1          1           0   \n",
              "188    41  32.20   6775.9610           1         0          1           0   \n",
              "921    62  33.20  13462.5200           1         0          1           0   \n",
              "\n",
              "      region_northeast  region_northwest  region_southeast  region_southwest  \\\n",
              "221                  1                 0                 0                 0   \n",
              "1170                 1                 0                 0                 0   \n",
              "555                  0                 0                 0                 1   \n",
              "188                  0                 0                 0                 1   \n",
              "921                  0                 0                 0                 1   \n",
              "\n",
              "      children_0  children_1  children_2  children_3  children_4  children_5  \n",
              "221            1           0           0           0           0           0  \n",
              "1170           0           1           0           0           0           0  \n",
              "555            0           0           1           0           0           0  \n",
              "188            0           1           0           0           0           0  \n",
              "921            1           0           0           0           0           0  "
            ],
            "text/html": [
              "\n",
              "  <div id=\"df-77f51db8-f07f-4d18-afe0-eaf962abace9\">\n",
              "    <div class=\"colab-df-container\">\n",
              "      <div>\n",
              "<style scoped>\n",
              "    .dataframe tbody tr th:only-of-type {\n",
              "        vertical-align: middle;\n",
              "    }\n",
              "\n",
              "    .dataframe tbody tr th {\n",
              "        vertical-align: top;\n",
              "    }\n",
              "\n",
              "    .dataframe thead th {\n",
              "        text-align: right;\n",
              "    }\n",
              "</style>\n",
              "<table border=\"1\" class=\"dataframe\">\n",
              "  <thead>\n",
              "    <tr style=\"text-align: right;\">\n",
              "      <th></th>\n",
              "      <th>age</th>\n",
              "      <th>bmi</th>\n",
              "      <th>charges</th>\n",
              "      <th>sex_female</th>\n",
              "      <th>sex_male</th>\n",
              "      <th>smoker_no</th>\n",
              "      <th>smoker_yes</th>\n",
              "      <th>region_northeast</th>\n",
              "      <th>region_northwest</th>\n",
              "      <th>region_southeast</th>\n",
              "      <th>region_southwest</th>\n",
              "      <th>children_0</th>\n",
              "      <th>children_1</th>\n",
              "      <th>children_2</th>\n",
              "      <th>children_3</th>\n",
              "      <th>children_4</th>\n",
              "      <th>children_5</th>\n",
              "    </tr>\n",
              "  </thead>\n",
              "  <tbody>\n",
              "    <tr>\n",
              "      <th>221</th>\n",
              "      <td>53</td>\n",
              "      <td>33.25</td>\n",
              "      <td>10564.8845</td>\n",
              "      <td>1</td>\n",
              "      <td>0</td>\n",
              "      <td>1</td>\n",
              "      <td>0</td>\n",
              "      <td>1</td>\n",
              "      <td>0</td>\n",
              "      <td>0</td>\n",
              "      <td>0</td>\n",
              "      <td>1</td>\n",
              "      <td>0</td>\n",
              "      <td>0</td>\n",
              "      <td>0</td>\n",
              "      <td>0</td>\n",
              "      <td>0</td>\n",
              "    </tr>\n",
              "    <tr>\n",
              "      <th>1170</th>\n",
              "      <td>18</td>\n",
              "      <td>27.36</td>\n",
              "      <td>17178.6824</td>\n",
              "      <td>0</td>\n",
              "      <td>1</td>\n",
              "      <td>0</td>\n",
              "      <td>1</td>\n",
              "      <td>1</td>\n",
              "      <td>0</td>\n",
              "      <td>0</td>\n",
              "      <td>0</td>\n",
              "      <td>0</td>\n",
              "      <td>1</td>\n",
              "      <td>0</td>\n",
              "      <td>0</td>\n",
              "      <td>0</td>\n",
              "      <td>0</td>\n",
              "    </tr>\n",
              "    <tr>\n",
              "      <th>555</th>\n",
              "      <td>28</td>\n",
              "      <td>23.80</td>\n",
              "      <td>3847.6740</td>\n",
              "      <td>0</td>\n",
              "      <td>1</td>\n",
              "      <td>1</td>\n",
              "      <td>0</td>\n",
              "      <td>0</td>\n",
              "      <td>0</td>\n",
              "      <td>0</td>\n",
              "      <td>1</td>\n",
              "      <td>0</td>\n",
              "      <td>0</td>\n",
              "      <td>1</td>\n",
              "      <td>0</td>\n",
              "      <td>0</td>\n",
              "      <td>0</td>\n",
              "    </tr>\n",
              "    <tr>\n",
              "      <th>188</th>\n",
              "      <td>41</td>\n",
              "      <td>32.20</td>\n",
              "      <td>6775.9610</td>\n",
              "      <td>1</td>\n",
              "      <td>0</td>\n",
              "      <td>1</td>\n",
              "      <td>0</td>\n",
              "      <td>0</td>\n",
              "      <td>0</td>\n",
              "      <td>0</td>\n",
              "      <td>1</td>\n",
              "      <td>0</td>\n",
              "      <td>1</td>\n",
              "      <td>0</td>\n",
              "      <td>0</td>\n",
              "      <td>0</td>\n",
              "      <td>0</td>\n",
              "    </tr>\n",
              "    <tr>\n",
              "      <th>921</th>\n",
              "      <td>62</td>\n",
              "      <td>33.20</td>\n",
              "      <td>13462.5200</td>\n",
              "      <td>1</td>\n",
              "      <td>0</td>\n",
              "      <td>1</td>\n",
              "      <td>0</td>\n",
              "      <td>0</td>\n",
              "      <td>0</td>\n",
              "      <td>0</td>\n",
              "      <td>1</td>\n",
              "      <td>1</td>\n",
              "      <td>0</td>\n",
              "      <td>0</td>\n",
              "      <td>0</td>\n",
              "      <td>0</td>\n",
              "      <td>0</td>\n",
              "    </tr>\n",
              "  </tbody>\n",
              "</table>\n",
              "</div>\n",
              "      <button class=\"colab-df-convert\" onclick=\"convertToInteractive('df-77f51db8-f07f-4d18-afe0-eaf962abace9')\"\n",
              "              title=\"Convert this dataframe to an interactive table.\"\n",
              "              style=\"display:none;\">\n",
              "        \n",
              "  <svg xmlns=\"http://www.w3.org/2000/svg\" height=\"24px\"viewBox=\"0 0 24 24\"\n",
              "       width=\"24px\">\n",
              "    <path d=\"M0 0h24v24H0V0z\" fill=\"none\"/>\n",
              "    <path d=\"M18.56 5.44l.94 2.06.94-2.06 2.06-.94-2.06-.94-.94-2.06-.94 2.06-2.06.94zm-11 1L8.5 8.5l.94-2.06 2.06-.94-2.06-.94L8.5 2.5l-.94 2.06-2.06.94zm10 10l.94 2.06.94-2.06 2.06-.94-2.06-.94-.94-2.06-.94 2.06-2.06.94z\"/><path d=\"M17.41 7.96l-1.37-1.37c-.4-.4-.92-.59-1.43-.59-.52 0-1.04.2-1.43.59L10.3 9.45l-7.72 7.72c-.78.78-.78 2.05 0 2.83L4 21.41c.39.39.9.59 1.41.59.51 0 1.02-.2 1.41-.59l7.78-7.78 2.81-2.81c.8-.78.8-2.07 0-2.86zM5.41 20L4 18.59l7.72-7.72 1.47 1.35L5.41 20z\"/>\n",
              "  </svg>\n",
              "      </button>\n",
              "      \n",
              "  <style>\n",
              "    .colab-df-container {\n",
              "      display:flex;\n",
              "      flex-wrap:wrap;\n",
              "      gap: 12px;\n",
              "    }\n",
              "\n",
              "    .colab-df-convert {\n",
              "      background-color: #E8F0FE;\n",
              "      border: none;\n",
              "      border-radius: 50%;\n",
              "      cursor: pointer;\n",
              "      display: none;\n",
              "      fill: #1967D2;\n",
              "      height: 32px;\n",
              "      padding: 0 0 0 0;\n",
              "      width: 32px;\n",
              "    }\n",
              "\n",
              "    .colab-df-convert:hover {\n",
              "      background-color: #E2EBFA;\n",
              "      box-shadow: 0px 1px 2px rgba(60, 64, 67, 0.3), 0px 1px 3px 1px rgba(60, 64, 67, 0.15);\n",
              "      fill: #174EA6;\n",
              "    }\n",
              "\n",
              "    [theme=dark] .colab-df-convert {\n",
              "      background-color: #3B4455;\n",
              "      fill: #D2E3FC;\n",
              "    }\n",
              "\n",
              "    [theme=dark] .colab-df-convert:hover {\n",
              "      background-color: #434B5C;\n",
              "      box-shadow: 0px 1px 3px 1px rgba(0, 0, 0, 0.15);\n",
              "      filter: drop-shadow(0px 1px 2px rgba(0, 0, 0, 0.3));\n",
              "      fill: #FFFFFF;\n",
              "    }\n",
              "  </style>\n",
              "\n",
              "      <script>\n",
              "        const buttonEl =\n",
              "          document.querySelector('#df-77f51db8-f07f-4d18-afe0-eaf962abace9 button.colab-df-convert');\n",
              "        buttonEl.style.display =\n",
              "          google.colab.kernel.accessAllowed ? 'block' : 'none';\n",
              "\n",
              "        async function convertToInteractive(key) {\n",
              "          const element = document.querySelector('#df-77f51db8-f07f-4d18-afe0-eaf962abace9');\n",
              "          const dataTable =\n",
              "            await google.colab.kernel.invokeFunction('convertToInteractive',\n",
              "                                                     [key], {});\n",
              "          if (!dataTable) return;\n",
              "\n",
              "          const docLinkHtml = 'Like what you see? Visit the ' +\n",
              "            '<a target=\"_blank\" href=https://colab.research.google.com/notebooks/data_table.ipynb>data table notebook</a>'\n",
              "            + ' to learn more about interactive tables.';\n",
              "          element.innerHTML = '';\n",
              "          dataTable['output_type'] = 'display_data';\n",
              "          await google.colab.output.renderOutput(dataTable, element);\n",
              "          const docLink = document.createElement('div');\n",
              "          docLink.innerHTML = docLinkHtml;\n",
              "          element.appendChild(docLink);\n",
              "        }\n",
              "      </script>\n",
              "    </div>\n",
              "  </div>\n",
              "  "
            ]
          },
          "metadata": {},
          "execution_count": 10
        }
      ]
    },
    {
      "cell_type": "markdown",
      "source": [
        "Separación de la base:"
      ],
      "metadata": {
        "id": "cNclA_zJ4N2l"
      }
    },
    {
      "cell_type": "code",
      "source": [
        "# separación de variable dependiente y atributos\n",
        "y = df['charges']\n",
        "x = df.loc[:, ~df.columns.isin(['charges'])]\n",
        "# separación entrenamiento y prueba\n",
        "x_train, x_test, y_train, y_test = train_test_split(x, y, test_size = 0.2, random_state = 1)"
      ],
      "metadata": {
        "id": "g1UAQS1w8Fhr"
      },
      "execution_count": 11,
      "outputs": []
    },
    {
      "cell_type": "markdown",
      "source": [
        "Transformación  de la variable objetivo a logaritmo:"
      ],
      "metadata": {
        "id": "bOhktsar-sGU"
      }
    },
    {
      "cell_type": "markdown",
      "source": [
        "Estandarización de las características:"
      ],
      "metadata": {
        "id": "K4VrAF1t_eR9"
      }
    },
    {
      "cell_type": "code",
      "source": [
        "scaler = StandardScaler()\n",
        "x_train_scaled = scaler.fit_transform(x_train)\n",
        "x_test_scaled = scaler.transform(x_test)"
      ],
      "metadata": {
        "id": "dsuFC2Jo_gkM"
      },
      "execution_count": 12,
      "outputs": []
    },
    {
      "cell_type": "markdown",
      "source": [
        "## 2) Entrenamiento\n"
      ],
      "metadata": {
        "id": "g2C0HOWu_0mk"
      }
    },
    {
      "cell_type": "markdown",
      "source": [
        "### 2.1) Sin regularización y sin polinomio\n",
        "\n",
        "Ajuste del modelo:"
      ],
      "metadata": {
        "id": "eXUms3B7N-43"
      }
    },
    {
      "cell_type": "code",
      "source": [
        "regr = LinearRegression()\n",
        "regr.fit(x_train_scaled, y_train)"
      ],
      "metadata": {
        "colab": {
          "base_uri": "https://localhost:8080/"
        },
        "id": "8k20tqiL_9i8",
        "outputId": "2c28508e-66ca-4eef-bbed-816323d53d2d"
      },
      "execution_count": 13,
      "outputs": [
        {
          "output_type": "execute_result",
          "data": {
            "text/plain": [
              "LinearRegression()"
            ]
          },
          "metadata": {},
          "execution_count": 13
        }
      ]
    },
    {
      "cell_type": "markdown",
      "source": [
        "Evaluación del modelo:"
      ],
      "metadata": {
        "id": "xi2u9kNAAnGl"
      }
    },
    {
      "cell_type": "code",
      "source": [
        "preds_train = regr.predict(x_train_scaled)\n",
        "preds_test = regr.predict(x_test_scaled)\n",
        "print(f'Entrenamiento: {np.sqrt(mean_squared_error(y_train, preds_train))}')\n",
        "print(f'Prueba: {np.sqrt(mean_squared_error(y_test, preds_test))}')"
      ],
      "metadata": {
        "colab": {
          "base_uri": "https://localhost:8080/"
        },
        "id": "o7Yy8bQAAmSP",
        "outputId": "aac38c2b-0c7f-4639-856b-6488e8e390a7"
      },
      "execution_count": 14,
      "outputs": [
        {
          "output_type": "stream",
          "name": "stdout",
          "text": [
            "Entrenamiento: 6132.541570633522\n",
            "Prueba: 5717.791255307469\n"
          ]
        }
      ]
    },
    {
      "cell_type": "markdown",
      "source": [
        "Para poder interpretar el error, se revisan las características de la variable objetivo:"
      ],
      "metadata": {
        "id": "yK-upVXgAxT4"
      }
    },
    {
      "cell_type": "code",
      "source": [
        "y_train.describe()"
      ],
      "metadata": {
        "colab": {
          "base_uri": "https://localhost:8080/"
        },
        "id": "_E5emGtCHhRo",
        "outputId": "51ecfc1c-6921-4a33-e98b-3cd3dca6b817"
      },
      "execution_count": 15,
      "outputs": [
        {
          "output_type": "execute_result",
          "data": {
            "text/plain": [
              "count     1069.000000\n",
              "mean     13631.418932\n",
              "std      12263.054249\n",
              "min       1121.873900\n",
              "25%       4889.036800\n",
              "50%       9583.893300\n",
              "75%      17904.527050\n",
              "max      63770.428010\n",
              "Name: charges, dtype: float64"
            ]
          },
          "metadata": {},
          "execution_count": 15
        }
      ]
    },
    {
      "cell_type": "code",
      "source": [
        "y_test.describe()"
      ],
      "metadata": {
        "colab": {
          "base_uri": "https://localhost:8080/"
        },
        "id": "s-MVpPFDHjyA",
        "outputId": "74c2e876-9af0-4821-bae7-9d32cc54e09e"
      },
      "execution_count": 16,
      "outputs": [
        {
          "output_type": "execute_result",
          "data": {
            "text/plain": [
              "count      268.000000\n",
              "mean     11873.875335\n",
              "std      11394.925051\n",
              "min       1137.469700\n",
              "25%       4347.206725\n",
              "50%       8601.522600\n",
              "75%      13051.470012\n",
              "max      62592.873090\n",
              "Name: charges, dtype: float64"
            ]
          },
          "metadata": {},
          "execution_count": 16
        }
      ]
    },
    {
      "cell_type": "markdown",
      "source": [
        "Al parecer, el modelo tiene un error alto porque la raíz del error cuadrático medio, tanto para el conjunto el conjunto de entrenamiento como para el de prueba, es mayor a los percentiles 75 y bastante cercano al máximo.\n",
        "\n",
        "Considerando que el error de entrenamiento es mayor al error de prueba, no hay evidencia de sobre-ajuste sino, por el contrario, de sub-ajuste."
      ],
      "metadata": {
        "id": "Va50_FQmHp0g"
      }
    },
    {
      "cell_type": "markdown",
      "source": [
        "### 2.2) Con polinomio y regularización\n",
        "\n",
        "Transformaciones a polinomios de grado 2 y 5:"
      ],
      "metadata": {
        "id": "kOMhMRsFI_lX"
      }
    },
    {
      "cell_type": "code",
      "source": [
        "# grado 2\n",
        "poly_features2 = PolynomialFeatures(degree=2, include_bias = False)\n",
        "x_train_poly2 = poly_features2.fit_transform(x_train_scaled)\n",
        "x_test_poly2 = poly_features2.fit_transform(x_test_scaled)\n",
        "# grado 5\n",
        "poly_features5 = PolynomialFeatures(degree=5, include_bias = False)\n",
        "x_train_poly5 = poly_features5.fit_transform(x_train_scaled)\n",
        "x_test_poly5 = poly_features5.fit_transform(x_test_scaled)"
      ],
      "metadata": {
        "id": "_eDb8mhbJwG8"
      },
      "execution_count": 17,
      "outputs": []
    },
    {
      "cell_type": "markdown",
      "source": [
        "Ambos casos ajustados con regularización Ridge con $\\alpha=0.1$:"
      ],
      "metadata": {
        "id": "gvgR3KcfKafZ"
      }
    },
    {
      "cell_type": "code",
      "source": [
        "# grado 2\n",
        "ridge_reg2 = Ridge(alpha=0.1, solver='cholesky')\n",
        "ridge_reg2.fit(x_train_poly2,y_train)\n",
        "# grado 5\n",
        "ridge_reg5 = Ridge(alpha=0.1, solver='cholesky')\n",
        "ridge_reg5.fit(x_train_poly5,y_train)"
      ],
      "metadata": {
        "colab": {
          "base_uri": "https://localhost:8080/"
        },
        "id": "m-JZvMpTK_zx",
        "outputId": "d0242dd4-a03e-4330-f714-5e0a83f42cc1"
      },
      "execution_count": 18,
      "outputs": [
        {
          "output_type": "execute_result",
          "data": {
            "text/plain": [
              "Ridge(alpha=0.1, solver='cholesky')"
            ]
          },
          "metadata": {},
          "execution_count": 18
        }
      ]
    },
    {
      "cell_type": "markdown",
      "source": [
        "Evaluación grado 2:"
      ],
      "metadata": {
        "id": "II8gZSzCMAdN"
      }
    },
    {
      "cell_type": "code",
      "source": [
        "preds_train = ridge_reg2.predict(x_train_poly2)\n",
        "preds_test = ridge_reg2.predict(x_test_poly2)\n",
        "print(f'Entrenamiento: {np.sqrt(mean_squared_error(y_train, preds_train))}')\n",
        "print(f'Prueba: {np.sqrt(mean_squared_error(y_test, preds_test))}')"
      ],
      "metadata": {
        "colab": {
          "base_uri": "https://localhost:8080/"
        },
        "id": "Zpx__D9TL_xH",
        "outputId": "a9abb6fc-f979-4c68-bcba-4089f6f3691b"
      },
      "execution_count": 19,
      "outputs": [
        {
          "output_type": "stream",
          "name": "stdout",
          "text": [
            "Entrenamiento: 4661.137111252048\n",
            "Prueba: 4817.562845412789\n"
          ]
        }
      ]
    },
    {
      "cell_type": "markdown",
      "source": [
        "Evaluación grado 5:"
      ],
      "metadata": {
        "id": "CKoRlpToMAHo"
      }
    },
    {
      "cell_type": "code",
      "source": [
        "preds_train = ridge_reg5.predict(x_train_poly5)\n",
        "preds_test = ridge_reg5.predict(x_test_poly5)\n",
        "print(f'Entrenamiento: {np.sqrt(mean_squared_error(y_train, preds_train))}')\n",
        "print(f'Prueba: {np.sqrt(mean_squared_error(y_test, preds_test))}')"
      ],
      "metadata": {
        "colab": {
          "base_uri": "https://localhost:8080/"
        },
        "id": "eK-zE0caMjzt",
        "outputId": "fbf3db1f-dd49-4844-bf2b-2ef392fce458"
      },
      "execution_count": 20,
      "outputs": [
        {
          "output_type": "stream",
          "name": "stdout",
          "text": [
            "Entrenamiento: 2911.7533188462576\n",
            "Prueba: 20598.57727695553\n"
          ]
        }
      ]
    },
    {
      "cell_type": "markdown",
      "source": [
        "Con regularización Ridge con $\\alpha=0.5$:"
      ],
      "metadata": {
        "id": "eHvvK3c4MqSc"
      }
    },
    {
      "cell_type": "code",
      "source": [
        "# grado 2\n",
        "ridge_reg2 = Ridge(alpha=0.5, solver='cholesky')\n",
        "ridge_reg2.fit(x_train_poly2,y_train)\n",
        "# grado 5\n",
        "ridge_reg5 = Ridge(alpha=0.5, solver='cholesky')\n",
        "ridge_reg5.fit(x_train_poly5,y_train)"
      ],
      "metadata": {
        "colab": {
          "base_uri": "https://localhost:8080/"
        },
        "id": "g-j21ltIMveO",
        "outputId": "718ea914-7167-4e20-af2a-78f8e6a312e1"
      },
      "execution_count": 21,
      "outputs": [
        {
          "output_type": "execute_result",
          "data": {
            "text/plain": [
              "Ridge(alpha=0.5, solver='cholesky')"
            ]
          },
          "metadata": {},
          "execution_count": 21
        }
      ]
    },
    {
      "cell_type": "markdown",
      "source": [
        "Evaluación grado 2:"
      ],
      "metadata": {
        "id": "xLlMFcJGMzmk"
      }
    },
    {
      "cell_type": "code",
      "source": [
        "preds_train = ridge_reg2.predict(x_train_poly2)\n",
        "preds_test = ridge_reg2.predict(x_test_poly2)\n",
        "print(f'Entrenamiento: {np.sqrt(mean_squared_error(y_train, preds_train))}')\n",
        "print(f'Prueba: {np.sqrt(mean_squared_error(y_test, preds_test))}')"
      ],
      "metadata": {
        "colab": {
          "base_uri": "https://localhost:8080/"
        },
        "outputId": "5bde699d-dfd6-499f-f96f-22ea0ca6a123",
        "id": "oMypXriZMzmk"
      },
      "execution_count": 22,
      "outputs": [
        {
          "output_type": "stream",
          "name": "stdout",
          "text": [
            "Entrenamiento: 4661.137742428537\n",
            "Prueba: 4817.410020656636\n"
          ]
        }
      ]
    },
    {
      "cell_type": "markdown",
      "source": [
        "Evaluación grado 5:"
      ],
      "metadata": {
        "id": "jVBxI26AMzmk"
      }
    },
    {
      "cell_type": "code",
      "source": [
        "preds_train = ridge_reg5.predict(x_train_poly5)\n",
        "preds_test = ridge_reg5.predict(x_test_poly5)\n",
        "print(f'Entrenamiento: {np.sqrt(mean_squared_error(y_train, preds_train))}')\n",
        "print(f'Prueba: {np.sqrt(mean_squared_error(y_test, preds_test))}')"
      ],
      "metadata": {
        "colab": {
          "base_uri": "https://localhost:8080/"
        },
        "outputId": "a3792a60-f1c6-4503-c8f4-24fae8cee7a6",
        "id": "HQwXhCiwMzml"
      },
      "execution_count": 23,
      "outputs": [
        {
          "output_type": "stream",
          "name": "stdout",
          "text": [
            "Entrenamiento: 2915.253737119541\n",
            "Prueba: 17326.610400321333\n"
          ]
        }
      ]
    },
    {
      "cell_type": "markdown",
      "source": [
        "Con regularización Ridge con $\\alpha=0.7$:"
      ],
      "metadata": {
        "id": "41o7KayUNGYY"
      }
    },
    {
      "cell_type": "code",
      "source": [
        "# grado 2\n",
        "ridge_reg2 = Ridge(alpha=0.7, solver='cholesky')\n",
        "ridge_reg2.fit(x_train_poly2,y_train)\n",
        "# grado 5\n",
        "ridge_reg5 = Ridge(alpha=0.7, solver='cholesky')\n",
        "ridge_reg5.fit(x_train_poly5,y_train)"
      ],
      "metadata": {
        "colab": {
          "base_uri": "https://localhost:8080/"
        },
        "outputId": "d6abf04b-a4a4-42da-aa91-ba6a732fa69c",
        "id": "TsWSJD0tNGYY"
      },
      "execution_count": 24,
      "outputs": [
        {
          "output_type": "execute_result",
          "data": {
            "text/plain": [
              "Ridge(alpha=0.7, solver='cholesky')"
            ]
          },
          "metadata": {},
          "execution_count": 24
        }
      ]
    },
    {
      "cell_type": "markdown",
      "source": [
        "Evaluación grado 2:"
      ],
      "metadata": {
        "id": "czTq_WrJNSxI"
      }
    },
    {
      "cell_type": "code",
      "source": [
        "preds_train = ridge_reg2.predict(x_train_poly2)\n",
        "preds_test = ridge_reg2.predict(x_test_poly2)\n",
        "print(f'Entrenamiento: {np.sqrt(mean_squared_error(y_train, preds_train))}')\n",
        "print(f'Prueba: {np.sqrt(mean_squared_error(y_test, preds_test))}')"
      ],
      "metadata": {
        "colab": {
          "base_uri": "https://localhost:8080/"
        },
        "outputId": "9904aaf7-863b-4817-d7f9-e86c3c581ada",
        "id": "TPQ5gZA_NSxJ"
      },
      "execution_count": 25,
      "outputs": [
        {
          "output_type": "stream",
          "name": "stdout",
          "text": [
            "Entrenamiento: 4661.13837309605\n",
            "Prueba: 4817.333961274703\n"
          ]
        }
      ]
    },
    {
      "cell_type": "markdown",
      "source": [
        "Evaluación grado 5:"
      ],
      "metadata": {
        "id": "uxjwnUMGNSxJ"
      }
    },
    {
      "cell_type": "code",
      "source": [
        "preds_train = ridge_reg5.predict(x_train_poly5)\n",
        "preds_test = ridge_reg5.predict(x_test_poly5)\n",
        "print(f'Entrenamiento: {np.sqrt(mean_squared_error(y_train, preds_train))}')\n",
        "print(f'Prueba: {np.sqrt(mean_squared_error(y_test, preds_test))}')"
      ],
      "metadata": {
        "colab": {
          "base_uri": "https://localhost:8080/"
        },
        "outputId": "04a01833-2f79-4eaa-9962-2cab9c3fbf57",
        "id": "3TCgDeKjNSxJ"
      },
      "execution_count": 26,
      "outputs": [
        {
          "output_type": "stream",
          "name": "stdout",
          "text": [
            "Entrenamiento: 2916.848696852341\n",
            "Prueba: 16745.832202347592\n"
          ]
        }
      ]
    },
    {
      "cell_type": "markdown",
      "source": [
        "## 3) Conclusiones\n",
        "\n",
        "Se concluye lo siguiente:\n",
        "\n",
        "- El error mejoró notablemente con el incremento del polinomio, teniendo valores cercanos al percentil 25 con grado 2 e inferiores al mismo percentil para grado 5.\n",
        "- El error de entrenamiento fue mayor para todos los casos, lo que significa que en todos los casos tuvieron sub-ajuste.\n",
        "- Los hiperparámetros no parecen tener un efecto para los casos con grado 2. En el caso del grado 5, los errores se incrementan, por lo que parece que un menor nivel de hiperparámetro disminuye el error."
      ],
      "metadata": {
        "id": "Q0w-TtXzOH1P"
      }
    },
    {
      "cell_type": "markdown",
      "source": [
        "Con respecto a los coeficientes, se revisan los valores de los modelos:"
      ],
      "metadata": {
        "id": "KZ8BkqJePiwe"
      }
    },
    {
      "cell_type": "code",
      "source": [
        "coef_dict = {}\n",
        "\n",
        "for coef, feat in zip(regr.coef_,df.columns):\n",
        "\n",
        "    coef_dict[feat] = coef\n",
        "\n",
        "coef_dict"
      ],
      "metadata": {
        "colab": {
          "base_uri": "https://localhost:8080/"
        },
        "id": "OFmLn8saQYfY",
        "outputId": "dc3f9aa5-f322-4dae-d373-9b7c55ec47ae"
      },
      "execution_count": 27,
      "outputs": [
        {
          "output_type": "execute_result",
          "data": {
            "text/plain": [
              "{'age': 3624.95769250073,\n",
              " 'bmi': 2325.130766689254,\n",
              " 'charges': -1.0407737876506344e+17,\n",
              " 'sex_female': -1.0407737876506378e+17,\n",
              " 'sex_male': 5.46633961721754e+16,\n",
              " 'smoker_no': 5.466339617218511e+16,\n",
              " 'smoker_yes': -2.597739272246916e+17,\n",
              " 'region_northeast': -2.5538907140750294e+17,\n",
              " 'region_northwest': -2.668659666072071e+17,\n",
              " 'region_southeast': -2.5812074095713766e+17,\n",
              " 'region_southwest': -1.3459883717574115e+17,\n",
              " 'children_0': -1.1786593820662995e+17,\n",
              " 'children_1': -1.0507384335733854e+17,\n",
              " 'children_2': -8.790849510513446e+16,\n",
              " 'children_3': -3.6021448816558236e+16,\n",
              " 'children_4': -3.0994167390863624e+16}"
            ]
          },
          "metadata": {},
          "execution_count": 27
        }
      ]
    },
    {
      "cell_type": "code",
      "source": [
        "ridge_reg2 = Ridge(alpha=0.1, solver='cholesky')\n",
        "ridge_reg2.fit(x_train_poly2,y_train)\n",
        "coef_dict = {}\n",
        "\n",
        "for coef, feat in zip(ridge_reg2.coef_,df.columns):\n",
        "\n",
        "    coef_dict[feat] = coef\n",
        "\n",
        "coef_dict"
      ],
      "metadata": {
        "colab": {
          "base_uri": "https://localhost:8080/"
        },
        "id": "e1V-zmv6QmS5",
        "outputId": "fb98e4a1-3599-4abd-aa5a-06852c34ec97"
      },
      "execution_count": 28,
      "outputs": [
        {
          "output_type": "execute_result",
          "data": {
            "text/plain": [
              "{'age': 3515.4543467790404,\n",
              " 'bmi': 2278.6304173493936,\n",
              " 'charges': 196.7592771698507,\n",
              " 'sex_female': -196.75927716893142,\n",
              " 'sex_male': -1322.0801261414529,\n",
              " 'smoker_no': 1322.0801261498914,\n",
              " 'smoker_yes': 115.08478778328369,\n",
              " 'region_northeast': 16.194309429476572,\n",
              " 'region_northwest': -67.11399710534424,\n",
              " 'region_southeast': -62.45695390958237,\n",
              " 'region_southwest': -213.78541649949454,\n",
              " 'children_0': 57.717840172322475,\n",
              " 'children_1': 169.76521324549645,\n",
              " 'children_2': 42.04220262738617,\n",
              " 'children_3': 7.944230422673783,\n",
              " 'children_4': 4.9166738085962365,\n",
              " 'children_5': 859.9830529789559}"
            ]
          },
          "metadata": {},
          "execution_count": 28
        }
      ]
    },
    {
      "cell_type": "code",
      "source": [
        "ridge_reg5 = Ridge(alpha=0.1, solver='cholesky')\n",
        "ridge_reg5.fit(x_train_poly2,y_train)\n",
        "coef_dict = {}\n",
        "\n",
        "for coef, feat in zip(ridge_reg5.coef_,df.columns):\n",
        "\n",
        "    coef_dict[feat] = coef\n",
        "\n",
        "coef_dict"
      ],
      "metadata": {
        "colab": {
          "base_uri": "https://localhost:8080/"
        },
        "id": "cyUbCV_JRhp6",
        "outputId": "4e183f79-e8c2-4488-8562-31126266172e"
      },
      "execution_count": 29,
      "outputs": [
        {
          "output_type": "execute_result",
          "data": {
            "text/plain": [
              "{'age': 3515.4543467790404,\n",
              " 'bmi': 2278.6304173493936,\n",
              " 'charges': 196.7592771698507,\n",
              " 'sex_female': -196.75927716893142,\n",
              " 'sex_male': -1322.0801261414529,\n",
              " 'smoker_no': 1322.0801261498914,\n",
              " 'smoker_yes': 115.08478778328369,\n",
              " 'region_northeast': 16.194309429476572,\n",
              " 'region_northwest': -67.11399710534424,\n",
              " 'region_southeast': -62.45695390958237,\n",
              " 'region_southwest': -213.78541649949454,\n",
              " 'children_0': 57.717840172322475,\n",
              " 'children_1': 169.76521324549645,\n",
              " 'children_2': 42.04220262738617,\n",
              " 'children_3': 7.944230422673783,\n",
              " 'children_4': 4.9166738085962365,\n",
              " 'children_5': 859.9830529789559}"
            ]
          },
          "metadata": {},
          "execution_count": 29
        }
      ]
    },
    {
      "cell_type": "code",
      "source": [
        "ridge_reg2 = Ridge(alpha=0.5, solver='cholesky')\n",
        "ridge_reg2.fit(x_train_poly2,y_train)\n",
        "coef_dict = {}\n",
        "\n",
        "for coef, feat in zip(ridge_reg2.coef_,df.columns):\n",
        "\n",
        "    coef_dict[feat] = coef\n",
        "\n",
        "coef_dict"
      ],
      "metadata": {
        "colab": {
          "base_uri": "https://localhost:8080/"
        },
        "outputId": "0bdc5538-7f1c-4912-f656-7a82b14b32e6",
        "id": "minPvbcmRq39"
      },
      "execution_count": 30,
      "outputs": [
        {
          "output_type": "execute_result",
          "data": {
            "text/plain": [
              "{'age': 3514.067125732168,\n",
              " 'bmi': 2277.7076363831743,\n",
              " 'charges': 196.68620381189646,\n",
              " 'sex_female': -196.68620381145425,\n",
              " 'sex_male': -1321.9823791594026,\n",
              " 'smoker_no': 1321.9823791583394,\n",
              " 'smoker_yes': 115.04962314702779,\n",
              " 'region_northeast': 16.157955776717277,\n",
              " 'region_northwest': -67.06833006699102,\n",
              " 'region_southeast': -62.43280938990244,\n",
              " 'region_southwest': -213.7483355514581,\n",
              " 'children_0': 57.69046504131172,\n",
              " 'children_1': 169.74663367353514,\n",
              " 'children_2': 42.04813991707984,\n",
              " 'children_3': 7.942392121583351,\n",
              " 'children_4': 4.908028491009149,\n",
              " 'children_5': 859.6583578437538}"
            ]
          },
          "metadata": {},
          "execution_count": 30
        }
      ]
    },
    {
      "cell_type": "code",
      "source": [
        "ridge_reg5 = Ridge(alpha=0.5, solver='cholesky')\n",
        "ridge_reg5.fit(x_train_poly2,y_train)\n",
        "coef_dict = {}\n",
        "\n",
        "for coef, feat in zip(ridge_reg5.coef_,df.columns):\n",
        "\n",
        "    coef_dict[feat] = coef\n",
        "\n",
        "coef_dict"
      ],
      "metadata": {
        "colab": {
          "base_uri": "https://localhost:8080/"
        },
        "outputId": "501f7d59-1a96-4371-97e7-dd70309aa644",
        "id": "zvdU3qt9Rq39"
      },
      "execution_count": 31,
      "outputs": [
        {
          "output_type": "execute_result",
          "data": {
            "text/plain": [
              "{'age': 3514.067125732168,\n",
              " 'bmi': 2277.7076363831743,\n",
              " 'charges': 196.68620381189646,\n",
              " 'sex_female': -196.68620381145425,\n",
              " 'sex_male': -1321.9823791594026,\n",
              " 'smoker_no': 1321.9823791583394,\n",
              " 'smoker_yes': 115.04962314702779,\n",
              " 'region_northeast': 16.157955776717277,\n",
              " 'region_northwest': -67.06833006699102,\n",
              " 'region_southeast': -62.43280938990244,\n",
              " 'region_southwest': -213.7483355514581,\n",
              " 'children_0': 57.69046504131172,\n",
              " 'children_1': 169.74663367353514,\n",
              " 'children_2': 42.04813991707984,\n",
              " 'children_3': 7.942392121583351,\n",
              " 'children_4': 4.908028491009149,\n",
              " 'children_5': 859.6583578437538}"
            ]
          },
          "metadata": {},
          "execution_count": 31
        }
      ]
    },
    {
      "cell_type": "code",
      "source": [
        "ridge_reg2 = Ridge(alpha=0.7, solver='cholesky')\n",
        "ridge_reg2.fit(x_train_poly2,y_train)\n",
        "coef_dict = {}\n",
        "\n",
        "for coef, feat in zip(ridge_reg2.coef_,df.columns):\n",
        "\n",
        "    coef_dict[feat] = coef\n",
        "\n",
        "coef_dict"
      ],
      "metadata": {
        "colab": {
          "base_uri": "https://localhost:8080/"
        },
        "outputId": "f17a37ca-5870-4774-cfa3-cdf30ac4b2e3",
        "id": "3W_SbIeXRzCw"
      },
      "execution_count": 32,
      "outputs": [
        {
          "output_type": "execute_result",
          "data": {
            "text/plain": [
              "{'age': 3513.373948200924,\n",
              " 'bmi': 2277.246583910599,\n",
              " 'charges': 196.64966686670593,\n",
              " 'sex_female': -196.6496668663386,\n",
              " 'sex_male': -1321.9335252947126,\n",
              " 'smoker_no': 1321.9335252932117,\n",
              " 'smoker_yes': 115.03204212280191,\n",
              " 'region_northeast': 16.139802394379423,\n",
              " 'region_northwest': -67.04550966337476,\n",
              " 'region_southeast': -62.42074806560621,\n",
              " 'region_southwest': -213.7298038135419,\n",
              " 'children_0': 57.676783334999605,\n",
              " 'children_1': 169.73734747150533,\n",
              " 'children_2': 42.0511067900516,\n",
              " 'children_3': 7.941473437794925,\n",
              " 'children_4': 4.9037138865588545,\n",
              " 'children_5': 859.4961194551341}"
            ]
          },
          "metadata": {},
          "execution_count": 32
        }
      ]
    },
    {
      "cell_type": "code",
      "source": [
        "ridge_reg5 = Ridge(alpha=0.7, solver='cholesky')\n",
        "ridge_reg5.fit(x_train_poly2,y_train)\n",
        "coef_dict = {}\n",
        "\n",
        "for coef, feat in zip(ridge_reg5.coef_,df.columns):\n",
        "\n",
        "    coef_dict[feat] = coef\n",
        "\n",
        "coef_dict"
      ],
      "metadata": {
        "colab": {
          "base_uri": "https://localhost:8080/"
        },
        "outputId": "faef62c1-8b3d-48be-81ca-568d2fbd90de",
        "id": "yh5ubPqWRzCw"
      },
      "execution_count": 33,
      "outputs": [
        {
          "output_type": "execute_result",
          "data": {
            "text/plain": [
              "{'age': 3513.373948200924,\n",
              " 'bmi': 2277.246583910599,\n",
              " 'charges': 196.64966686670593,\n",
              " 'sex_female': -196.6496668663386,\n",
              " 'sex_male': -1321.9335252947126,\n",
              " 'smoker_no': 1321.9335252932117,\n",
              " 'smoker_yes': 115.03204212280191,\n",
              " 'region_northeast': 16.139802394379423,\n",
              " 'region_northwest': -67.04550966337476,\n",
              " 'region_southeast': -62.42074806560621,\n",
              " 'region_southwest': -213.7298038135419,\n",
              " 'children_0': 57.676783334999605,\n",
              " 'children_1': 169.73734747150533,\n",
              " 'children_2': 42.0511067900516,\n",
              " 'children_3': 7.941473437794925,\n",
              " 'children_4': 4.9037138865588545,\n",
              " 'children_5': 859.4961194551341}"
            ]
          },
          "metadata": {},
          "execution_count": 33
        }
      ]
    },
    {
      "cell_type": "markdown",
      "source": [
        "En todos los caso, los atributos más importantes son la edad y el índice de masa corporal."
      ],
      "metadata": {
        "id": "8yKQuB2CR976"
      }
    }
  ]
}